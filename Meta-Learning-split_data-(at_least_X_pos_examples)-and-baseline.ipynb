{
 "cells": [
  {
   "cell_type": "code",
   "execution_count": 1,
   "metadata": {},
   "outputs": [],
   "source": [
    "import pandas as pd\n",
    "import numpy as np\n",
    "import matplotlib.pyplot as plt\n",
    "import json\n",
    "import os\n",
    "import seaborn as sns\n",
    "from collections import Counter"
   ]
  },
  {
   "cell_type": "code",
   "execution_count": 2,
   "metadata": {},
   "outputs": [],
   "source": [
    "comp = pd.read_csv(\"meta_start_companies_filtered_labeled.csv\")"
   ]
  },
  {
   "cell_type": "code",
   "execution_count": 3,
   "metadata": {
    "scrolled": true
   },
   "outputs": [
    {
     "name": "stdout",
     "output_type": "stream",
     "text": [
      "(32698, 9)\n"
     ]
    },
    {
     "data": {
      "text/html": [
       "<div>\n",
       "<style scoped>\n",
       "    .dataframe tbody tr th:only-of-type {\n",
       "        vertical-align: middle;\n",
       "    }\n",
       "\n",
       "    .dataframe tbody tr th {\n",
       "        vertical-align: top;\n",
       "    }\n",
       "\n",
       "    .dataframe thead th {\n",
       "        text-align: right;\n",
       "    }\n",
       "</style>\n",
       "<table border=\"1\" class=\"dataframe\">\n",
       "  <thead>\n",
       "    <tr style=\"text-align: right;\">\n",
       "      <th></th>\n",
       "      <th>category_list</th>\n",
       "      <th>funding_total_usd</th>\n",
       "      <th>country_code</th>\n",
       "      <th>funding_rounds</th>\n",
       "      <th>Num_of_investor</th>\n",
       "      <th>funding_duration</th>\n",
       "      <th>first_funding_at_UTC</th>\n",
       "      <th>last_funding_at_UTC</th>\n",
       "      <th>label</th>\n",
       "    </tr>\n",
       "  </thead>\n",
       "  <tbody>\n",
       "    <tr>\n",
       "      <th>0</th>\n",
       "      <td>Curated Web</td>\n",
       "      <td>2000000.0</td>\n",
       "      <td>CHN</td>\n",
       "      <td>1</td>\n",
       "      <td>1</td>\n",
       "      <td>0</td>\n",
       "      <td>13957</td>\n",
       "      <td>13957</td>\n",
       "      <td>0</td>\n",
       "    </tr>\n",
       "    <tr>\n",
       "      <th>1</th>\n",
       "      <td>Games</td>\n",
       "      <td>41250.0</td>\n",
       "      <td>HKG</td>\n",
       "      <td>1</td>\n",
       "      <td>1</td>\n",
       "      <td>0</td>\n",
       "      <td>16252</td>\n",
       "      <td>16252</td>\n",
       "      <td>0</td>\n",
       "    </tr>\n",
       "    <tr>\n",
       "      <th>2</th>\n",
       "      <td>Analytics</td>\n",
       "      <td>33600000.0</td>\n",
       "      <td>USA</td>\n",
       "      <td>4</td>\n",
       "      <td>14</td>\n",
       "      <td>1040</td>\n",
       "      <td>15708</td>\n",
       "      <td>16748</td>\n",
       "      <td>0</td>\n",
       "    </tr>\n",
       "    <tr>\n",
       "      <th>3</th>\n",
       "      <td>Mobile</td>\n",
       "      <td>1150050.0</td>\n",
       "      <td>USA</td>\n",
       "      <td>3</td>\n",
       "      <td>13</td>\n",
       "      <td>931</td>\n",
       "      <td>15175</td>\n",
       "      <td>16106</td>\n",
       "      <td>0</td>\n",
       "    </tr>\n",
       "    <tr>\n",
       "      <th>4</th>\n",
       "      <td>E-Commerce</td>\n",
       "      <td>40000.0</td>\n",
       "      <td>CHL</td>\n",
       "      <td>1</td>\n",
       "      <td>1</td>\n",
       "      <td>0</td>\n",
       "      <td>15754</td>\n",
       "      <td>15754</td>\n",
       "      <td>0</td>\n",
       "    </tr>\n",
       "    <tr>\n",
       "      <th>5</th>\n",
       "      <td>Apps|Cable|Distribution|Software</td>\n",
       "      <td>5000000.0</td>\n",
       "      <td>USA</td>\n",
       "      <td>1</td>\n",
       "      <td>1</td>\n",
       "      <td>0</td>\n",
       "      <td>16511</td>\n",
       "      <td>16511</td>\n",
       "      <td>1</td>\n",
       "    </tr>\n",
       "    <tr>\n",
       "      <th>6</th>\n",
       "      <td>Search</td>\n",
       "      <td>40000.0</td>\n",
       "      <td>USA</td>\n",
       "      <td>1</td>\n",
       "      <td>1</td>\n",
       "      <td>0</td>\n",
       "      <td>15209</td>\n",
       "      <td>15209</td>\n",
       "      <td>0</td>\n",
       "    </tr>\n",
       "    <tr>\n",
       "      <th>7</th>\n",
       "      <td>Art|E-Commerce|Marketplaces</td>\n",
       "      <td>500000.0</td>\n",
       "      <td>USA</td>\n",
       "      <td>1</td>\n",
       "      <td>3</td>\n",
       "      <td>0</td>\n",
       "      <td>14379</td>\n",
       "      <td>14379</td>\n",
       "      <td>1</td>\n",
       "    </tr>\n",
       "    <tr>\n",
       "      <th>8</th>\n",
       "      <td>Curated Web</td>\n",
       "      <td>2535000.0</td>\n",
       "      <td>USA</td>\n",
       "      <td>2</td>\n",
       "      <td>13</td>\n",
       "      <td>411</td>\n",
       "      <td>14610</td>\n",
       "      <td>15021</td>\n",
       "      <td>1</td>\n",
       "    </tr>\n",
       "    <tr>\n",
       "      <th>9</th>\n",
       "      <td>Curated Web</td>\n",
       "      <td>6795451.0</td>\n",
       "      <td>USA</td>\n",
       "      <td>9</td>\n",
       "      <td>13</td>\n",
       "      <td>2221</td>\n",
       "      <td>14531</td>\n",
       "      <td>16752</td>\n",
       "      <td>0</td>\n",
       "    </tr>\n",
       "  </tbody>\n",
       "</table>\n",
       "</div>"
      ],
      "text/plain": [
       "                      category_list  funding_total_usd country_code  \\\n",
       "0                       Curated Web          2000000.0          CHN   \n",
       "1                             Games            41250.0          HKG   \n",
       "2                         Analytics         33600000.0          USA   \n",
       "3                            Mobile          1150050.0          USA   \n",
       "4                        E-Commerce            40000.0          CHL   \n",
       "5  Apps|Cable|Distribution|Software          5000000.0          USA   \n",
       "6                            Search            40000.0          USA   \n",
       "7       Art|E-Commerce|Marketplaces           500000.0          USA   \n",
       "8                       Curated Web          2535000.0          USA   \n",
       "9                       Curated Web          6795451.0          USA   \n",
       "\n",
       "   funding_rounds  Num_of_investor  funding_duration  first_funding_at_UTC  \\\n",
       "0               1                1                 0                 13957   \n",
       "1               1                1                 0                 16252   \n",
       "2               4               14              1040                 15708   \n",
       "3               3               13               931                 15175   \n",
       "4               1                1                 0                 15754   \n",
       "5               1                1                 0                 16511   \n",
       "6               1                1                 0                 15209   \n",
       "7               1                3                 0                 14379   \n",
       "8               2               13               411                 14610   \n",
       "9               9               13              2221                 14531   \n",
       "\n",
       "   last_funding_at_UTC  label  \n",
       "0                13957      0  \n",
       "1                16252      0  \n",
       "2                16748      0  \n",
       "3                16106      0  \n",
       "4                15754      0  \n",
       "5                16511      1  \n",
       "6                15209      0  \n",
       "7                14379      1  \n",
       "8                15021      1  \n",
       "9                16752      0  "
      ]
     },
     "execution_count": 3,
     "metadata": {},
     "output_type": "execute_result"
    }
   ],
   "source": [
    "print(comp.shape)\n",
    "comp.head(10)"
   ]
  },
  {
   "cell_type": "code",
   "execution_count": 4,
   "metadata": {},
   "outputs": [
    {
     "name": "stdout",
     "output_type": "stream",
     "text": [
      "<class 'pandas.core.frame.DataFrame'>\n",
      "RangeIndex: 32698 entries, 0 to 32697\n",
      "Data columns (total 9 columns):\n",
      "category_list           32698 non-null object\n",
      "funding_total_usd       32698 non-null float64\n",
      "country_code            32698 non-null object\n",
      "funding_rounds          32698 non-null int64\n",
      "Num_of_investor         32698 non-null int64\n",
      "funding_duration        32698 non-null int64\n",
      "first_funding_at_UTC    32698 non-null int64\n",
      "last_funding_at_UTC     32698 non-null int64\n",
      "label                   32698 non-null int64\n",
      "dtypes: float64(1), int64(6), object(2)\n",
      "memory usage: 2.2+ MB\n"
     ]
    }
   ],
   "source": [
    "comp.info()"
   ]
  },
  {
   "cell_type": "code",
   "execution_count": 5,
   "metadata": {},
   "outputs": [],
   "source": [
    "# comp.groupby('label').count()"
   ]
  },
  {
   "cell_type": "code",
   "execution_count": 6,
   "metadata": {},
   "outputs": [
    {
     "data": {
      "text/plain": [
       "label\n",
       "0    27800\n",
       "1     4898\n",
       "Name: country_code, dtype: int64"
      ]
     },
     "execution_count": 6,
     "metadata": {},
     "output_type": "execute_result"
    }
   ],
   "source": [
    "comp.groupby('label')['country_code'].count()"
   ]
  },
  {
   "cell_type": "code",
   "execution_count": 7,
   "metadata": {},
   "outputs": [
    {
     "data": {
      "text/plain": [
       "1"
      ]
     },
     "execution_count": 7,
     "metadata": {},
     "output_type": "execute_result"
    }
   ],
   "source": [
    "comp.loc[5,'label']"
   ]
  },
  {
   "cell_type": "markdown",
   "metadata": {},
   "source": [
    "# create subdataframe for each category & delete the category with less 6 examples (but do not delete the examples)\n",
    "1. create/load comp and remian_comp_idx_set\n",
    "2. create cat_comp_dict\n",
    "3. calculate the number of examples for each cat, only keep the categories with enough examples: create sorted remian_cat_stat_df and store the deleted cat_dict in a dictionary called 'comp_num_less_than'. (exclude the categories with less 6 companies but do not delete the examples)\n",
    "4. use the remain categories to choose test dataset (the last 100 categories)\n",
    "5. calculate the test_cat_set, test_companies_idx_set, test_cat_comp_dict and create test sub_dataset\n",
    "6. update remian_comp_idx_set and cat_comp_dict: a) remove test_companies_idx_set from remian_comp_idx_set, b) delete test_companies_idx_set from cat_comp_dict's values, only keep valid categories in cat_comp_dict's keys.\n",
    "\n",
    "7. repeat 3-6 to for dev set and training set"
   ]
  },
  {
   "cell_type": "code",
   "execution_count": 8,
   "metadata": {},
   "outputs": [
    {
     "data": {
      "text/plain": [
       "(32698, 9)"
      ]
     },
     "execution_count": 8,
     "metadata": {},
     "output_type": "execute_result"
    }
   ],
   "source": [
    "# step 1\n",
    "total_comp_idx_set = set(comp.index)\n",
    "comp.shape"
   ]
  },
  {
   "cell_type": "code",
   "execution_count": 9,
   "metadata": {},
   "outputs": [
    {
     "data": {
      "text/plain": [
       "32698"
      ]
     },
     "execution_count": 9,
     "metadata": {},
     "output_type": "execute_result"
    }
   ],
   "source": [
    "len(total_comp_idx_set)"
   ]
  },
  {
   "cell_type": "code",
   "execution_count": 10,
   "metadata": {},
   "outputs": [],
   "source": [
    "# for idx, s in enumerate(comp['category_list']):\n",
    "#     print(idx)\n",
    "#     print(s)\n",
    "#     break"
   ]
  },
  {
   "cell_type": "code",
   "execution_count": 11,
   "metadata": {},
   "outputs": [],
   "source": [
    "# dict(comp['category_list'])"
   ]
  },
  {
   "cell_type": "code",
   "execution_count": 12,
   "metadata": {},
   "outputs": [],
   "source": [
    "# step 2\n",
    "def create_cat_comp_dict(df, col='category_list'):\n",
    "    cat_comp_dict = {}\n",
    "    comp_cat_dict = {}\n",
    "    l_maxlen = 0\n",
    "    \n",
    "    cat_list_to_dict = dict(df[col])\n",
    "    for idx, s in cat_list_to_dict.items():\n",
    "        if type(s) != str:\n",
    "            continue\n",
    "        l = s.split(\"|\")\n",
    "        comp_cat_dict[idx] = l\n",
    "        if len(l) > l_maxlen:\n",
    "            l_maxlen = len(l)\n",
    "            l_max_show = l\n",
    "    #         print(l_max_show)\n",
    "        for i in l:\n",
    "            if i not in cat_comp_dict.keys():\n",
    "                cat_comp_dict[i] = []\n",
    "            cat_comp_dict[i].append(idx)\n",
    "    \n",
    "    return cat_comp_dict, comp_cat_dict, l_maxlen, l_max_show"
   ]
  },
  {
   "cell_type": "code",
   "execution_count": 13,
   "metadata": {},
   "outputs": [],
   "source": [
    "cat_comp_dict_all, com_cat_dict_all, l_maxlen_all, l_max_show_all = create_cat_comp_dict(comp)"
   ]
  },
  {
   "cell_type": "code",
   "execution_count": 14,
   "metadata": {},
   "outputs": [
    {
     "data": {
      "text/plain": [
       "833"
      ]
     },
     "execution_count": 14,
     "metadata": {},
     "output_type": "execute_result"
    }
   ],
   "source": [
    "available_cat_set_all = set(cat_comp_dict_all.keys())\n",
    "len(available_cat_set_all)"
   ]
  },
  {
   "cell_type": "code",
   "execution_count": 15,
   "metadata": {},
   "outputs": [
    {
     "name": "stdout",
     "output_type": "stream",
     "text": [
      "23 ['Advertising', 'Android', 'Apps', 'Discounts', 'Gps', 'Indoor Positioning', 'Information Technology', 'iPhone', 'Local Advertising', 'Local Search', 'Location Based Services', 'Mobile', 'Mobile Advertising', 'Navigation', 'Personalization', 'Private Social Networking', 'Reviews and Recommendations', 'Services', 'Social Media', 'Social Network Media', 'Technology', 'Windows Phone 7', 'Wireless']\n"
     ]
    }
   ],
   "source": [
    "print(l_maxlen_all, l_max_show_all)"
   ]
  },
  {
   "cell_type": "markdown",
   "metadata": {},
   "source": [
    "## Choose the minimum number of positive examples for every category"
   ]
  },
  {
   "cell_type": "code",
   "execution_count": 55,
   "metadata": {},
   "outputs": [],
   "source": [
    "MIN_POS_NUM = 3"
   ]
  },
  {
   "cell_type": "code",
   "execution_count": 56,
   "metadata": {},
   "outputs": [],
   "source": [
    "# step 3\n",
    "# we only take count of the category with more than X positive companies.\n",
    "# tot_comp_num = len(total_comp_idx_set)\n",
    "\n",
    "def calculate_valid_cat_stat(cat_comnp_dict, comp_df, at_least_pos_num):\n",
    "    valid_cat_stat_dict = {}\n",
    "    \n",
    "    for k, v in cat_comnp_dict.items():\n",
    "        pos_num = 0\n",
    "        for i in v:\n",
    "            if comp_df.loc[i,'label'] == 1:\n",
    "                pos_num += 1\n",
    "        if pos_num >= at_least_pos_num:\n",
    "            valid_cat_stat_dict[k] = {'num_comp': len(v), 'num_positive_example': pos_num}\n",
    "    valid_cat_stat_df = pd.DataFrame.from_dict(valid_cat_stat_dict, orient='index')\n",
    "    valid_cat_stat_df = valid_cat_stat_df.sort_values('num_comp',ascending=False)\n",
    "    \n",
    "    valid_cat_set = set(valid_cat_stat_df.index)\n",
    "    return valid_cat_stat_dict, valid_cat_stat_df, valid_cat_set"
   ]
  },
  {
   "cell_type": "code",
   "execution_count": 57,
   "metadata": {},
   "outputs": [],
   "source": [
    "def calculate_comp_idx_set(cat_set, cat_comp_dict):\n",
    "    comp_idx_set = set()\n",
    "    for k in cat_set:\n",
    "        for i in cat_comp_dict[k]:\n",
    "            comp_idx_set.add(i)\n",
    "    return comp_idx_set"
   ]
  },
  {
   "cell_type": "code",
   "execution_count": 58,
   "metadata": {},
   "outputs": [],
   "source": [
    "valid_cat_stat_all_dict, valid_cat_stat_all_df, valid_cat_set = calculate_valid_cat_stat(cat_comp_dict_all,\n",
    "                                                                             comp, \n",
    "                                                                             at_least_pos_num=MIN_POS_NUM)"
   ]
  },
  {
   "cell_type": "code",
   "execution_count": 59,
   "metadata": {},
   "outputs": [
    {
     "data": {
      "text/plain": [
       "409"
      ]
     },
     "execution_count": 59,
     "metadata": {},
     "output_type": "execute_result"
    }
   ],
   "source": [
    "len(valid_cat_set)"
   ]
  },
  {
   "cell_type": "markdown",
   "metadata": {},
   "source": [
    "# step 4 & 5: \n",
    "create test set (select the last 100 categories (with least examples) as test dataset)"
   ]
  },
  {
   "cell_type": "code",
   "execution_count": 60,
   "metadata": {},
   "outputs": [],
   "source": [
    "def split_test_dev_dataset(num_cat, remain_cat_stat_df, cat_comp_dict, comp_idx_set):\n",
    "    test_stat_df = remain_cat_stat_df.tail(num_cat)\n",
    "    test_cat_set = set(test_stat_df.index)\n",
    "    \n",
    "    test_cat_comp_dict = {}\n",
    "    for cat in test_cat_set:\n",
    "        comp_ids = cat_comp_dict[cat]\n",
    "        test_cat_comp_dict[cat] = comp_ids\n",
    "    \n",
    "    test_comp_idx_set = calculate_comp_idx_set(test_cat_set, cat_comp_dict)\n",
    "    \n",
    "    remain_cat_set = set(remain_cat_stat_df.index) - test_cat_set\n",
    "    remain_comp_idx_set = comp_idx_set - test_comp_idx_set\n",
    "    \n",
    "    return test_cat_set, test_cat_comp_dict, test_comp_idx_set, remain_cat_set, remain_comp_idx_set"
   ]
  },
  {
   "cell_type": "code",
   "execution_count": 61,
   "metadata": {},
   "outputs": [],
   "source": [
    "(test_cat_set, test_cat_comp_dict, test_comp_idx_set, \n",
    " aftertest_remain_cat_set, aftertest_remain_comp_idx_set) = split_test_dev_dataset(50, valid_cat_stat_all_df,\n",
    "                                                                                 cat_comp_dict_all,\n",
    "                                                                                 total_comp_idx_set)"
   ]
  },
  {
   "cell_type": "code",
   "execution_count": 62,
   "metadata": {},
   "outputs": [
    {
     "data": {
      "text/plain": [
       "359"
      ]
     },
     "execution_count": 62,
     "metadata": {},
     "output_type": "execute_result"
    }
   ],
   "source": [
    "len(aftertest_remain_cat_set)"
   ]
  },
  {
   "cell_type": "code",
   "execution_count": 63,
   "metadata": {},
   "outputs": [
    {
     "data": {
      "text/plain": [
       "874"
      ]
     },
     "execution_count": 63,
     "metadata": {},
     "output_type": "execute_result"
    }
   ],
   "source": [
    "len(test_comp_idx_set)"
   ]
  },
  {
   "cell_type": "code",
   "execution_count": 64,
   "metadata": {},
   "outputs": [],
   "source": [
    "## step 6\n",
    "def update_cat_comp_dict(old_cat_comp_dict, remain_cat_set, remain_comp_idx_set):\n",
    "    new_cat_comp_dict = {}\n",
    "    for cat in remain_cat_set:\n",
    "        old_comp_idx_list = old_cat_comp_dict[cat]\n",
    "        new_cat_comp_dict[cat] = []\n",
    "        for idx in old_comp_idx_list:\n",
    "            if idx in remain_comp_idx_set:\n",
    "                new_cat_comp_dict[cat].append(idx)\n",
    "    return new_cat_comp_dict"
   ]
  },
  {
   "cell_type": "code",
   "execution_count": 65,
   "metadata": {},
   "outputs": [
    {
     "data": {
      "text/plain": [
       "31824"
      ]
     },
     "execution_count": 65,
     "metadata": {},
     "output_type": "execute_result"
    }
   ],
   "source": [
    "len(aftertest_remain_comp_idx_set)"
   ]
  },
  {
   "cell_type": "code",
   "execution_count": 66,
   "metadata": {},
   "outputs": [
    {
     "data": {
      "text/plain": [
       "31824"
      ]
     },
     "execution_count": 66,
     "metadata": {},
     "output_type": "execute_result"
    }
   ],
   "source": [
    "32698 - len(test_comp_idx_set)"
   ]
  },
  {
   "cell_type": "code",
   "execution_count": 67,
   "metadata": {},
   "outputs": [],
   "source": [
    "aftertest_cat_comp_dict = update_cat_comp_dict(cat_comp_dict_all, aftertest_remain_cat_set,\n",
    "                                               aftertest_remain_comp_idx_set)"
   ]
  },
  {
   "cell_type": "code",
   "execution_count": 68,
   "metadata": {},
   "outputs": [],
   "source": [
    "# updated_cat_comp_dict_aft"
   ]
  },
  {
   "cell_type": "markdown",
   "metadata": {},
   "source": [
    "## Repeat step 3-6 for dev set"
   ]
  },
  {
   "cell_type": "code",
   "execution_count": 69,
   "metadata": {},
   "outputs": [],
   "source": [
    "# step 3\n",
    "aftertest_cat_stat_dict, aftertest_cat_stat_df, aftertest_valid_cat_set = calculate_valid_cat_stat(aftertest_cat_comp_dict,\n",
    "                                                                           comp,\n",
    "                                                                           MIN_POS_NUM)"
   ]
  },
  {
   "cell_type": "code",
   "execution_count": 70,
   "metadata": {},
   "outputs": [
    {
     "data": {
      "text/plain": [
       "345"
      ]
     },
     "execution_count": 70,
     "metadata": {},
     "output_type": "execute_result"
    }
   ],
   "source": [
    "len(aftertest_valid_cat_set)"
   ]
  },
  {
   "cell_type": "code",
   "execution_count": 71,
   "metadata": {},
   "outputs": [
    {
     "data": {
      "text/plain": [
       "345"
      ]
     },
     "execution_count": 71,
     "metadata": {},
     "output_type": "execute_result"
    }
   ],
   "source": [
    "# step 4 & 5\n",
    "aftertest_cat_set = aftertest_cat_stat_dict.keys()\n",
    "len(aftertest_cat_set)"
   ]
  },
  {
   "cell_type": "code",
   "execution_count": 72,
   "metadata": {},
   "outputs": [],
   "source": [
    "# step 4 & 5\n",
    "(dev_cat_set, dev_cat_comp_dict, dev_comp_idx_set,\n",
    " afterdev_remain_cat_set, afterdev_remain_comp_idx_set) = split_test_dev_dataset(50,\n",
    "                                                                          aftertest_cat_stat_df,\n",
    "                                                                          aftertest_cat_comp_dict,\n",
    "                                                                          aftertest_remain_comp_idx_set)"
   ]
  },
  {
   "cell_type": "code",
   "execution_count": 73,
   "metadata": {},
   "outputs": [
    {
     "data": {
      "text/plain": [
       "295"
      ]
     },
     "execution_count": 73,
     "metadata": {},
     "output_type": "execute_result"
    }
   ],
   "source": [
    "len(afterdev_remain_cat_set)"
   ]
  },
  {
   "cell_type": "code",
   "execution_count": 74,
   "metadata": {},
   "outputs": [
    {
     "data": {
      "text/plain": [
       "1378"
      ]
     },
     "execution_count": 74,
     "metadata": {},
     "output_type": "execute_result"
    }
   ],
   "source": [
    "len(dev_comp_idx_set)"
   ]
  },
  {
   "cell_type": "code",
   "execution_count": 75,
   "metadata": {},
   "outputs": [
    {
     "data": {
      "text/plain": [
       "30446"
      ]
     },
     "execution_count": 75,
     "metadata": {},
     "output_type": "execute_result"
    }
   ],
   "source": [
    "len(afterdev_remain_comp_idx_set)"
   ]
  },
  {
   "cell_type": "code",
   "execution_count": 76,
   "metadata": {},
   "outputs": [
    {
     "data": {
      "text/plain": [
       "30446"
      ]
     },
     "execution_count": 76,
     "metadata": {},
     "output_type": "execute_result"
    }
   ],
   "source": [
    "len(aftertest_remain_comp_idx_set) - len(dev_comp_idx_set)"
   ]
  },
  {
   "cell_type": "code",
   "execution_count": 77,
   "metadata": {},
   "outputs": [],
   "source": [
    "# step 6\n",
    "afterdev_cat_comp_dict = update_cat_comp_dict(aftertest_cat_comp_dict, afterdev_remain_cat_set,\n",
    "                                               afterdev_remain_comp_idx_set)"
   ]
  },
  {
   "cell_type": "code",
   "execution_count": 78,
   "metadata": {},
   "outputs": [
    {
     "data": {
      "text/plain": [
       "295"
      ]
     },
     "execution_count": 78,
     "metadata": {},
     "output_type": "execute_result"
    }
   ],
   "source": [
    "len(afterdev_cat_comp_dict)"
   ]
  },
  {
   "cell_type": "markdown",
   "metadata": {},
   "source": [
    "## the remaining cat_comp_dict is training part!"
   ]
  },
  {
   "cell_type": "code",
   "execution_count": 79,
   "metadata": {},
   "outputs": [],
   "source": [
    "train_cat_stat_dict, train_cat_stat_df, train_cat_set = calculate_valid_cat_stat(afterdev_cat_comp_dict,\n",
    "                                                                                        comp,\n",
    "                                                                                        MIN_POS_NUM)"
   ]
  },
  {
   "cell_type": "code",
   "execution_count": 80,
   "metadata": {},
   "outputs": [
    {
     "data": {
      "text/plain": [
       "289"
      ]
     },
     "execution_count": 80,
     "metadata": {},
     "output_type": "execute_result"
    }
   ],
   "source": [
    "len(train_cat_set)"
   ]
  },
  {
   "cell_type": "code",
   "execution_count": 81,
   "metadata": {},
   "outputs": [],
   "source": [
    "train_cat_comp_dict = {}\n",
    "for cat in train_cat_set:\n",
    "    train_cat_comp_dict[cat] = afterdev_cat_comp_dict[cat]\n",
    "    "
   ]
  },
  {
   "cell_type": "code",
   "execution_count": 82,
   "metadata": {},
   "outputs": [],
   "source": [
    "train_comp_idx_set = calculate_comp_idx_set(train_cat_set, train_cat_comp_dict)"
   ]
  },
  {
   "cell_type": "code",
   "execution_count": 83,
   "metadata": {},
   "outputs": [
    {
     "data": {
      "text/plain": [
       "30035"
      ]
     },
     "execution_count": 83,
     "metadata": {},
     "output_type": "execute_result"
    }
   ],
   "source": [
    "len(train_comp_idx_set)"
   ]
  },
  {
   "cell_type": "code",
   "execution_count": 84,
   "metadata": {},
   "outputs": [
    {
     "data": {
      "text/plain": [
       "32287"
      ]
     },
     "execution_count": 84,
     "metadata": {},
     "output_type": "execute_result"
    }
   ],
   "source": [
    "len(train_comp_idx_set) + len(dev_comp_idx_set) + len(test_comp_idx_set)"
   ]
  },
  {
   "cell_type": "markdown",
   "metadata": {},
   "source": [
    "## Create the data file after split"
   ]
  },
  {
   "cell_type": "code",
   "execution_count": 85,
   "metadata": {},
   "outputs": [],
   "source": [
    "from encoding_data import encode_dataset, separate_input_output_cols\n",
    "from sklearn import preprocessing\n",
    "from sklearn.preprocessing import StandardScaler\n",
    "from sklearn.feature_extraction import DictVectorizer\n",
    "from sklearn.feature_extraction.text import TfidfVectorizer"
   ]
  },
  {
   "cell_type": "code",
   "execution_count": 86,
   "metadata": {},
   "outputs": [],
   "source": [
    "total_used_comp_idx_list = []\n",
    "total_used_comp_idx_list.extend(list(train_comp_idx_set))\n",
    "total_used_comp_idx_list.extend(list(dev_comp_idx_set))\n",
    "total_used_comp_idx_list.extend(list(test_comp_idx_set))"
   ]
  },
  {
   "cell_type": "code",
   "execution_count": 87,
   "metadata": {},
   "outputs": [],
   "source": [
    "used_comp_df = comp.loc[total_used_comp_idx_list]\n",
    "used_comp_df = used_comp_df.drop(columns=['category_list'])"
   ]
  },
  {
   "cell_type": "code",
   "execution_count": 88,
   "metadata": {},
   "outputs": [],
   "source": [
    "used_comp_dict = used_comp_df.to_dict('index')"
   ]
  },
  {
   "cell_type": "code",
   "execution_count": 89,
   "metadata": {},
   "outputs": [],
   "source": [
    "preprared_data = {'train': train_cat_comp_dict,\n",
    "                  'dev': dev_cat_comp_dict,\n",
    "                  'test': test_cat_comp_dict,\n",
    "                  'companies': used_comp_dict}"
   ]
  },
  {
   "cell_type": "code",
   "execution_count": 90,
   "metadata": {},
   "outputs": [],
   "source": [
    "data_dir = '/Users/cicipan/projects/Predict-Success-of-Startups/data/preprocess_data'\n",
    "file_name = 'splitted_data_pos_{}.json'.format(MIN_POS_NUM)"
   ]
  },
  {
   "cell_type": "code",
   "execution_count": 91,
   "metadata": {},
   "outputs": [],
   "source": [
    "with open(os.path.join(data_dir, file_name), 'w') as f:\n",
    "    json.dump(preprared_data, f)"
   ]
  },
  {
   "cell_type": "code",
   "execution_count": 92,
   "metadata": {},
   "outputs": [
    {
     "data": {
      "text/html": [
       "<div>\n",
       "<style scoped>\n",
       "    .dataframe tbody tr th:only-of-type {\n",
       "        vertical-align: middle;\n",
       "    }\n",
       "\n",
       "    .dataframe tbody tr th {\n",
       "        vertical-align: top;\n",
       "    }\n",
       "\n",
       "    .dataframe thead th {\n",
       "        text-align: right;\n",
       "    }\n",
       "</style>\n",
       "<table border=\"1\" class=\"dataframe\">\n",
       "  <thead>\n",
       "    <tr style=\"text-align: right;\">\n",
       "      <th></th>\n",
       "      <th>funding_total_usd</th>\n",
       "      <th>country_code</th>\n",
       "      <th>funding_rounds</th>\n",
       "      <th>Num_of_investor</th>\n",
       "      <th>funding_duration</th>\n",
       "      <th>first_funding_at_UTC</th>\n",
       "      <th>last_funding_at_UTC</th>\n",
       "      <th>label</th>\n",
       "    </tr>\n",
       "  </thead>\n",
       "  <tbody>\n",
       "    <tr>\n",
       "      <th>0</th>\n",
       "      <td>2.000000e+06</td>\n",
       "      <td>CHN</td>\n",
       "      <td>1</td>\n",
       "      <td>1</td>\n",
       "      <td>0</td>\n",
       "      <td>13957</td>\n",
       "      <td>13957</td>\n",
       "      <td>0</td>\n",
       "    </tr>\n",
       "    <tr>\n",
       "      <th>1</th>\n",
       "      <td>4.125000e+04</td>\n",
       "      <td>HKG</td>\n",
       "      <td>1</td>\n",
       "      <td>1</td>\n",
       "      <td>0</td>\n",
       "      <td>16252</td>\n",
       "      <td>16252</td>\n",
       "      <td>0</td>\n",
       "    </tr>\n",
       "    <tr>\n",
       "      <th>2</th>\n",
       "      <td>3.360000e+07</td>\n",
       "      <td>USA</td>\n",
       "      <td>4</td>\n",
       "      <td>14</td>\n",
       "      <td>1040</td>\n",
       "      <td>15708</td>\n",
       "      <td>16748</td>\n",
       "      <td>0</td>\n",
       "    </tr>\n",
       "    <tr>\n",
       "      <th>3</th>\n",
       "      <td>1.150050e+06</td>\n",
       "      <td>USA</td>\n",
       "      <td>3</td>\n",
       "      <td>13</td>\n",
       "      <td>931</td>\n",
       "      <td>15175</td>\n",
       "      <td>16106</td>\n",
       "      <td>0</td>\n",
       "    </tr>\n",
       "    <tr>\n",
       "      <th>4</th>\n",
       "      <td>4.000000e+04</td>\n",
       "      <td>CHL</td>\n",
       "      <td>1</td>\n",
       "      <td>1</td>\n",
       "      <td>0</td>\n",
       "      <td>15754</td>\n",
       "      <td>15754</td>\n",
       "      <td>0</td>\n",
       "    </tr>\n",
       "    <tr>\n",
       "      <th>6</th>\n",
       "      <td>4.000000e+04</td>\n",
       "      <td>USA</td>\n",
       "      <td>1</td>\n",
       "      <td>1</td>\n",
       "      <td>0</td>\n",
       "      <td>15209</td>\n",
       "      <td>15209</td>\n",
       "      <td>0</td>\n",
       "    </tr>\n",
       "    <tr>\n",
       "      <th>7</th>\n",
       "      <td>5.000000e+05</td>\n",
       "      <td>USA</td>\n",
       "      <td>1</td>\n",
       "      <td>3</td>\n",
       "      <td>0</td>\n",
       "      <td>14379</td>\n",
       "      <td>14379</td>\n",
       "      <td>1</td>\n",
       "    </tr>\n",
       "    <tr>\n",
       "      <th>8</th>\n",
       "      <td>2.535000e+06</td>\n",
       "      <td>USA</td>\n",
       "      <td>2</td>\n",
       "      <td>13</td>\n",
       "      <td>411</td>\n",
       "      <td>14610</td>\n",
       "      <td>15021</td>\n",
       "      <td>1</td>\n",
       "    </tr>\n",
       "    <tr>\n",
       "      <th>9</th>\n",
       "      <td>6.795451e+06</td>\n",
       "      <td>USA</td>\n",
       "      <td>9</td>\n",
       "      <td>13</td>\n",
       "      <td>2221</td>\n",
       "      <td>14531</td>\n",
       "      <td>16752</td>\n",
       "      <td>0</td>\n",
       "    </tr>\n",
       "    <tr>\n",
       "      <th>10</th>\n",
       "      <td>1.066177e+07</td>\n",
       "      <td>FRA</td>\n",
       "      <td>5</td>\n",
       "      <td>17</td>\n",
       "      <td>1054</td>\n",
       "      <td>15689</td>\n",
       "      <td>16743</td>\n",
       "      <td>0</td>\n",
       "    </tr>\n",
       "  </tbody>\n",
       "</table>\n",
       "</div>"
      ],
      "text/plain": [
       "    funding_total_usd country_code  funding_rounds  Num_of_investor  \\\n",
       "0        2.000000e+06          CHN               1                1   \n",
       "1        4.125000e+04          HKG               1                1   \n",
       "2        3.360000e+07          USA               4               14   \n",
       "3        1.150050e+06          USA               3               13   \n",
       "4        4.000000e+04          CHL               1                1   \n",
       "6        4.000000e+04          USA               1                1   \n",
       "7        5.000000e+05          USA               1                3   \n",
       "8        2.535000e+06          USA               2               13   \n",
       "9        6.795451e+06          USA               9               13   \n",
       "10       1.066177e+07          FRA               5               17   \n",
       "\n",
       "    funding_duration  first_funding_at_UTC  last_funding_at_UTC  label  \n",
       "0                  0                 13957                13957      0  \n",
       "1                  0                 16252                16252      0  \n",
       "2               1040                 15708                16748      0  \n",
       "3                931                 15175                16106      0  \n",
       "4                  0                 15754                15754      0  \n",
       "6                  0                 15209                15209      0  \n",
       "7                  0                 14379                14379      1  \n",
       "8                411                 14610                15021      1  \n",
       "9               2221                 14531                16752      0  \n",
       "10              1054                 15689                16743      0  "
      ]
     },
     "execution_count": 92,
     "metadata": {},
     "output_type": "execute_result"
    }
   ],
   "source": [
    "used_comp_df.head(10)"
   ]
  },
  {
   "cell_type": "code",
   "execution_count": 93,
   "metadata": {},
   "outputs": [
    {
     "data": {
      "text/plain": [
       "{'funding_total_usd': 2000000.0,\n",
       " 'country_code': 'CHN',\n",
       " 'funding_rounds': 1,\n",
       " 'Num_of_investor': 1,\n",
       " 'funding_duration': 0,\n",
       " 'first_funding_at_UTC': 13957,\n",
       " 'last_funding_at_UTC': 13957,\n",
       " 'label': 0}"
      ]
     },
     "execution_count": 93,
     "metadata": {},
     "output_type": "execute_result"
    }
   ],
   "source": [
    "used_comp_dict[0]"
   ]
  },
  {
   "cell_type": "code",
   "execution_count": null,
   "metadata": {},
   "outputs": [],
   "source": []
  },
  {
   "cell_type": "code",
   "execution_count": null,
   "metadata": {},
   "outputs": [],
   "source": []
  },
  {
   "cell_type": "code",
   "execution_count": null,
   "metadata": {},
   "outputs": [],
   "source": []
  },
  {
   "cell_type": "markdown",
   "metadata": {},
   "source": [
    "## Don't use below part to prepare meta-learning data"
   ]
  },
  {
   "cell_type": "markdown",
   "metadata": {},
   "source": [
    "## preprocess examples: encode country_code, normalize numerical data"
   ]
  },
  {
   "cell_type": "code",
   "execution_count": 111,
   "metadata": {},
   "outputs": [],
   "source": [
    "data_dir = '/Users/cicipan/projects/Predict-Success-of-Startups/data'\n",
    "with open(os.path.join(data_dir, 'preprocess_data/splitted_data.json')) as f:\n",
    "    data = json.load(f)\n",
    "    "
   ]
  },
  {
   "cell_type": "code",
   "execution_count": 141,
   "metadata": {},
   "outputs": [],
   "source": [
    "train_cat_comp_dict = data['train']\n",
    "dev_cat_comp_dict = data['dev']\n",
    "test_cat_comp_dict = data['test']\n",
    "comp_idx_dict_str_key = data['companies']\n"
   ]
  },
  {
   "cell_type": "code",
   "execution_count": 142,
   "metadata": {},
   "outputs": [],
   "source": [
    "# change the keys of data['companies'] from string to integer\n",
    "comp_idx_dict = {}\n",
    "for strk, v in comp_idx_dict_str_key.items():\n",
    "    k = int(strk)\n",
    "    comp_idx_dict[k] = v"
   ]
  },
  {
   "cell_type": "code",
   "execution_count": 143,
   "metadata": {
    "scrolled": true
   },
   "outputs": [
    {
     "data": {
      "text/plain": [
       "{'funding_total_usd': 2000000.0,\n",
       " 'country_code': 'CHN',\n",
       " 'funding_rounds': 1,\n",
       " 'Num_of_investor': 1,\n",
       " 'funding_duration': 0,\n",
       " 'first_funding_at_UTC': 13957,\n",
       " 'last_funding_at_UTC': 13957,\n",
       " 'label': 0}"
      ]
     },
     "execution_count": 143,
     "metadata": {},
     "output_type": "execute_result"
    }
   ],
   "source": [
    "comp_idx_dict[0]"
   ]
  },
  {
   "cell_type": "code",
   "execution_count": 145,
   "metadata": {},
   "outputs": [
    {
     "data": {
      "text/html": [
       "<div>\n",
       "<style scoped>\n",
       "    .dataframe tbody tr th:only-of-type {\n",
       "        vertical-align: middle;\n",
       "    }\n",
       "\n",
       "    .dataframe tbody tr th {\n",
       "        vertical-align: top;\n",
       "    }\n",
       "\n",
       "    .dataframe thead th {\n",
       "        text-align: right;\n",
       "    }\n",
       "</style>\n",
       "<table border=\"1\" class=\"dataframe\">\n",
       "  <thead>\n",
       "    <tr style=\"text-align: right;\">\n",
       "      <th></th>\n",
       "      <th>funding_total_usd</th>\n",
       "      <th>country_code</th>\n",
       "      <th>funding_rounds</th>\n",
       "      <th>Num_of_investor</th>\n",
       "      <th>funding_duration</th>\n",
       "      <th>first_funding_at_UTC</th>\n",
       "      <th>last_funding_at_UTC</th>\n",
       "      <th>label</th>\n",
       "    </tr>\n",
       "  </thead>\n",
       "  <tbody>\n",
       "    <tr>\n",
       "      <th>0</th>\n",
       "      <td>2000000.0</td>\n",
       "      <td>CHN</td>\n",
       "      <td>1</td>\n",
       "      <td>1</td>\n",
       "      <td>0</td>\n",
       "      <td>13957</td>\n",
       "      <td>13957</td>\n",
       "      <td>0</td>\n",
       "    </tr>\n",
       "    <tr>\n",
       "      <th>1</th>\n",
       "      <td>41250.0</td>\n",
       "      <td>HKG</td>\n",
       "      <td>1</td>\n",
       "      <td>1</td>\n",
       "      <td>0</td>\n",
       "      <td>16252</td>\n",
       "      <td>16252</td>\n",
       "      <td>0</td>\n",
       "    </tr>\n",
       "    <tr>\n",
       "      <th>2</th>\n",
       "      <td>33600000.0</td>\n",
       "      <td>USA</td>\n",
       "      <td>4</td>\n",
       "      <td>14</td>\n",
       "      <td>1040</td>\n",
       "      <td>15708</td>\n",
       "      <td>16748</td>\n",
       "      <td>0</td>\n",
       "    </tr>\n",
       "    <tr>\n",
       "      <th>3</th>\n",
       "      <td>1150050.0</td>\n",
       "      <td>USA</td>\n",
       "      <td>3</td>\n",
       "      <td>13</td>\n",
       "      <td>931</td>\n",
       "      <td>15175</td>\n",
       "      <td>16106</td>\n",
       "      <td>0</td>\n",
       "    </tr>\n",
       "    <tr>\n",
       "      <th>4</th>\n",
       "      <td>40000.0</td>\n",
       "      <td>CHL</td>\n",
       "      <td>1</td>\n",
       "      <td>1</td>\n",
       "      <td>0</td>\n",
       "      <td>15754</td>\n",
       "      <td>15754</td>\n",
       "      <td>0</td>\n",
       "    </tr>\n",
       "  </tbody>\n",
       "</table>\n",
       "</div>"
      ],
      "text/plain": [
       "   funding_total_usd country_code  funding_rounds  Num_of_investor  \\\n",
       "0          2000000.0          CHN               1                1   \n",
       "1            41250.0          HKG               1                1   \n",
       "2         33600000.0          USA               4               14   \n",
       "3          1150050.0          USA               3               13   \n",
       "4            40000.0          CHL               1                1   \n",
       "\n",
       "   funding_duration  first_funding_at_UTC  last_funding_at_UTC  label  \n",
       "0                 0                 13957                13957      0  \n",
       "1                 0                 16252                16252      0  \n",
       "2              1040                 15708                16748      0  \n",
       "3               931                 15175                16106      0  \n",
       "4                 0                 15754                15754      0  "
      ]
     },
     "execution_count": 145,
     "metadata": {},
     "output_type": "execute_result"
    }
   ],
   "source": [
    "comp_df = pd.DataFrame.from_dict(comp_idx_dict, orient='index')\n",
    "comp_df.head()"
   ]
  },
  {
   "cell_type": "code",
   "execution_count": 146,
   "metadata": {},
   "outputs": [
    {
     "data": {
      "text/plain": [
       "759"
      ]
     },
     "execution_count": 146,
     "metadata": {},
     "output_type": "execute_result"
    }
   ],
   "source": [
    "train_comp_idx_set = calculate_comp_idx_set(train_cat_comp_dict.keys(),train_cat_comp_dict)\n",
    "dev_comp_idx_set = calculate_comp_idx_set(dev_cat_comp_dict.keys(),dev_cat_comp_dict)\n",
    "test_comp_idx_set = calculate_comp_idx_set(test_cat_comp_dict.keys(),test_cat_comp_dict)\n",
    "len(test_comp_idx_set)\n"
   ]
  },
  {
   "cell_type": "code",
   "execution_count": 149,
   "metadata": {},
   "outputs": [
    {
     "data": {
      "text/html": [
       "<div>\n",
       "<style scoped>\n",
       "    .dataframe tbody tr th:only-of-type {\n",
       "        vertical-align: middle;\n",
       "    }\n",
       "\n",
       "    .dataframe tbody tr th {\n",
       "        vertical-align: top;\n",
       "    }\n",
       "\n",
       "    .dataframe thead th {\n",
       "        text-align: right;\n",
       "    }\n",
       "</style>\n",
       "<table border=\"1\" class=\"dataframe\">\n",
       "  <thead>\n",
       "    <tr style=\"text-align: right;\">\n",
       "      <th></th>\n",
       "      <th>funding_total_usd</th>\n",
       "      <th>country_code</th>\n",
       "      <th>funding_rounds</th>\n",
       "      <th>Num_of_investor</th>\n",
       "      <th>funding_duration</th>\n",
       "      <th>first_funding_at_UTC</th>\n",
       "      <th>last_funding_at_UTC</th>\n",
       "      <th>label</th>\n",
       "    </tr>\n",
       "  </thead>\n",
       "  <tbody>\n",
       "    <tr>\n",
       "      <th>26627</th>\n",
       "      <td>4115591.0</td>\n",
       "      <td>USA</td>\n",
       "      <td>3</td>\n",
       "      <td>1</td>\n",
       "      <td>1148</td>\n",
       "      <td>15562</td>\n",
       "      <td>16710</td>\n",
       "      <td>0</td>\n",
       "    </tr>\n",
       "    <tr>\n",
       "      <th>5</th>\n",
       "      <td>5000000.0</td>\n",
       "      <td>USA</td>\n",
       "      <td>1</td>\n",
       "      <td>1</td>\n",
       "      <td>0</td>\n",
       "      <td>16511</td>\n",
       "      <td>16511</td>\n",
       "      <td>1</td>\n",
       "    </tr>\n",
       "    <tr>\n",
       "      <th>20486</th>\n",
       "      <td>50000.0</td>\n",
       "      <td>RUS</td>\n",
       "      <td>2</td>\n",
       "      <td>1</td>\n",
       "      <td>299</td>\n",
       "      <td>15650</td>\n",
       "      <td>15949</td>\n",
       "      <td>0</td>\n",
       "    </tr>\n",
       "    <tr>\n",
       "      <th>18437</th>\n",
       "      <td>300000.0</td>\n",
       "      <td>RUS</td>\n",
       "      <td>1</td>\n",
       "      <td>2</td>\n",
       "      <td>0</td>\n",
       "      <td>15793</td>\n",
       "      <td>15793</td>\n",
       "      <td>0</td>\n",
       "    </tr>\n",
       "    <tr>\n",
       "      <th>22536</th>\n",
       "      <td>5564999.0</td>\n",
       "      <td>DEU</td>\n",
       "      <td>3</td>\n",
       "      <td>1</td>\n",
       "      <td>555</td>\n",
       "      <td>15670</td>\n",
       "      <td>16225</td>\n",
       "      <td>0</td>\n",
       "    </tr>\n",
       "  </tbody>\n",
       "</table>\n",
       "</div>"
      ],
      "text/plain": [
       "       funding_total_usd country_code  funding_rounds  Num_of_investor  \\\n",
       "26627          4115591.0          USA               3                1   \n",
       "5              5000000.0          USA               1                1   \n",
       "20486            50000.0          RUS               2                1   \n",
       "18437           300000.0          RUS               1                2   \n",
       "22536          5564999.0          DEU               3                1   \n",
       "\n",
       "       funding_duration  first_funding_at_UTC  last_funding_at_UTC  label  \n",
       "26627              1148                 15562                16710      0  \n",
       "5                     0                 16511                16511      1  \n",
       "20486               299                 15650                15949      0  \n",
       "18437                 0                 15793                15793      0  \n",
       "22536               555                 15670                16225      0  "
      ]
     },
     "execution_count": 149,
     "metadata": {},
     "output_type": "execute_result"
    }
   ],
   "source": [
    "train_examples_df = comp_df.loc[list(train_comp_idx_set)]\n",
    "dev_examples_df = comp_df.loc[list(dev_comp_idx_set)]\n",
    "test_examples_df = comp_df.loc[list(test_comp_idx_set)]\n",
    "test_examples_df.head()"
   ]
  },
  {
   "cell_type": "code",
   "execution_count": 163,
   "metadata": {},
   "outputs": [],
   "source": [
    "metadata = {'output_label': ['label'],\n",
    "            'input_categorical': ['country_code'],\n",
    "            'input_int': ['funding_rounds', 'Num_of_investor', 'funding_duration', 'first_funding_at_UTC',\n",
    "                          'last_funding_at_UTC'],\n",
    "            'input_float': ['funding_total_usd'],\n",
    "            'input_text': [],\n",
    "            'input_datetime': [],\n",
    "            'input_bool': []\n",
    "            }"
   ]
  },
  {
   "cell_type": "code",
   "execution_count": 164,
   "metadata": {},
   "outputs": [
    {
     "name": "stdout",
     "output_type": "stream",
     "text": [
      "Starting to encode inputs...\n",
      "Except categorical and text input data after encoding, the shape is (30639, 6)\n",
      "we have 6 columns.\n",
      "Non-text input data after encoding, the shape is (30639, 123)\n",
      "We have 123 columns.\n",
      "Starting to encode inputs...\n",
      "Except categorical and text input data after encoding, the shape is (1273, 6)\n",
      "we have 6 columns.\n",
      "Non-text input data after encoding, the shape is (1273, 123)\n",
      "We have 123 columns.\n",
      "Starting to encode inputs...\n",
      "Except categorical and text input data after encoding, the shape is (759, 6)\n",
      "we have 6 columns.\n",
      "Non-text input data after encoding, the shape is (759, 123)\n",
      "We have 123 columns.\n"
     ]
    }
   ],
   "source": [
    "ytrain, Xtrain, dv, scaler, _, cols_name = encode_dataset(train_examples_df, metadata)\n",
    "ydev, Xdev, _, _, _, _ = encode_dataset(dev_examples_df, metadata, dv=dv, scaler=scaler)\n",
    "ytest, Xtest, _, _, _, _ = encode_dataset(test_examples_df, metadata, dv=dv, scaler=scaler)"
   ]
  },
  {
   "cell_type": "markdown",
   "metadata": {},
   "source": [
    "## Baseline Models, including logistic regression, random forests, knn, neural network"
   ]
  },
  {
   "cell_type": "code",
   "execution_count": 176,
   "metadata": {},
   "outputs": [],
   "source": [
    "import sklearn\n",
    "from sklearn.linear_model import LogisticRegression\n",
    "from sklearn import metrics \n",
    "from sklearn import ensemble\n",
    "from sklearn.metrics import accuracy_score, f1_score"
   ]
  },
  {
   "cell_type": "code",
   "execution_count": 173,
   "metadata": {},
   "outputs": [
    {
     "data": {
      "text/plain": [
       "0.8892380204241949"
      ]
     },
     "execution_count": 173,
     "metadata": {},
     "output_type": "execute_result"
    }
   ],
   "source": [
    "1-np.mean(ydev)"
   ]
  },
  {
   "cell_type": "code",
   "execution_count": 180,
   "metadata": {},
   "outputs": [
    {
     "name": "stderr",
     "output_type": "stream",
     "text": [
      "/Users/cicipan/projects/envs/lab/lib/python3.6/site-packages/ipykernel_launcher.py:3: DataConversionWarning: A column-vector y was passed when a 1d array was expected. Please change the shape of y to (n_samples,), for example using ravel().\n",
      "  This is separate from the ipykernel package so we can avoid doing imports until\n"
     ]
    },
    {
     "name": "stdout",
     "output_type": "stream",
     "text": [
      "accuracy: 0.8923802042419482\n",
      "f1 score: 0.35071090047393366\n"
     ]
    }
   ],
   "source": [
    "####  Random Forest  ####\n",
    "model_RF = sklearn.ensemble.RandomForestClassifier(n_estimators=100) \n",
    "model_RF.fit(Xtrain, ytrain)\n",
    "\n",
    "y_pred = model_RF.predict(Xdev)\n",
    "acc = accuracy_score(ydev, y_pred)\n",
    "f1 = f1_score(ydev, y_pred)\n",
    "print('accuracy: {}'.format(acc))\n",
    "print('f1 score: {}'.format(f1))"
   ]
  },
  {
   "cell_type": "code",
   "execution_count": 181,
   "metadata": {},
   "outputs": [
    {
     "name": "stdout",
     "output_type": "stream",
     "text": [
      "accuracy: 0.8782403770620582\n",
      "f1 score: 0.20512820512820515\n"
     ]
    },
    {
     "name": "stderr",
     "output_type": "stream",
     "text": [
      "/Users/cicipan/projects/envs/lab/lib/python3.6/site-packages/sklearn/linear_model/logistic.py:432: FutureWarning: Default solver will be changed to 'lbfgs' in 0.22. Specify a solver to silence this warning.\n",
      "  FutureWarning)\n",
      "/Users/cicipan/projects/envs/lab/lib/python3.6/site-packages/sklearn/utils/validation.py:724: DataConversionWarning: A column-vector y was passed when a 1d array was expected. Please change the shape of y to (n_samples, ), for example using ravel().\n",
      "  y = column_or_1d(y, warn=True)\n"
     ]
    }
   ],
   "source": [
    "# Logistic Regression\n",
    "model_LR = LogisticRegression()\n",
    "model_LR.fit(Xtrain, ytrain)\n",
    "\n",
    "y_pred = model_LR.predict(Xdev)\n",
    "accuracy_score(ydev, y_pred)\n",
    "acc = accuracy_score(ydev, y_pred)\n",
    "f1 = f1_score(ydev, y_pred)\n",
    "print('accuracy: {}'.format(acc))\n",
    "print('f1 score: {}'.format(f1))"
   ]
  },
  {
   "cell_type": "code",
   "execution_count": 182,
   "metadata": {},
   "outputs": [
    {
     "name": "stderr",
     "output_type": "stream",
     "text": [
      "/Users/cicipan/projects/envs/lab/lib/python3.6/site-packages/ipykernel_launcher.py:3: DataConversionWarning: A column-vector y was passed when a 1d array was expected. Please change the shape of y to (n_samples, ), for example using ravel().\n",
      "  This is separate from the ipykernel package so we can avoid doing imports until\n"
     ]
    },
    {
     "name": "stdout",
     "output_type": "stream",
     "text": [
      "accuracy: 0.8782403770620582\n",
      "f1 score: 0.34513274336283184\n"
     ]
    }
   ],
   "source": [
    "# KNN \n",
    "model_knn = sklearn.neighbors.KNeighborsClassifier(n_neighbors=5)\n",
    "model_knn.fit(Xtrain, ytrain)\n",
    "\n",
    "y_pred = model_knn.predict(Xdev)\n",
    "accuracy_score(ydev, y_pred)\n",
    "f1 = f1_score(ydev, y_pred)\n",
    "print('accuracy: {}'.format(acc))\n",
    "print('f1 score: {}'.format(f1))"
   ]
  },
  {
   "cell_type": "markdown",
   "metadata": {},
   "source": [
    "## NN model"
   ]
  },
  {
   "cell_type": "code",
   "execution_count": 193,
   "metadata": {},
   "outputs": [],
   "source": [
    "from tensorflow import keras\n",
    "from tensorflow.keras import layers\n",
    "from tensorflow.keras import optimizers\n",
    "from tensorflow.keras.callbacks import EarlyStopping, ModelCheckpoint\n",
    "from keras.callbacks import Callback\n",
    "from sklearn.metrics import confusion_matrix, f1_score, precision_score, recall_score\n",
    "from keras import backend as K"
   ]
  },
  {
   "cell_type": "code",
   "execution_count": 184,
   "metadata": {},
   "outputs": [],
   "source": [
    "n_features = Xtrain.shape[1]\n",
    "\n",
    "hyp_params = {\n",
    "    'fc_hidden_size': 64,\n",
    "    'n_fc_layers': 4,\n",
    "    'lr': 0.001\n",
    "}"
   ]
  },
  {
   "cell_type": "code",
   "execution_count": 194,
   "metadata": {},
   "outputs": [],
   "source": [
    "def recall_m(y_true, y_pred):\n",
    "    true_positives = K.sum(K.round(K.clip(y_true * y_pred, 0, 1)))\n",
    "    possible_positives = K.sum(K.round(K.clip(y_true, 0, 1)))\n",
    "    recall = true_positives / (possible_positives + K.epsilon())\n",
    "    return recall\n",
    "\n",
    "def precision_m(y_true, y_pred):\n",
    "    true_positives = K.sum(K.round(K.clip(y_true * y_pred, 0, 1)))\n",
    "    predicted_positives = K.sum(K.round(K.clip(y_pred, 0, 1)))\n",
    "    precision = true_positives / (predicted_positives + K.epsilon())\n",
    "    return precision\n",
    "\n",
    "def f1_m(y_true, y_pred):\n",
    "    precision = precision_m(y_true, y_pred)\n",
    "    recall = recall_m(y_true, y_pred)\n",
    "    return 2*((precision*recall)/(precision+recall+K.epsilon()))"
   ]
  },
  {
   "cell_type": "code",
   "execution_count": 195,
   "metadata": {},
   "outputs": [
    {
     "name": "stdout",
     "output_type": "stream",
     "text": [
      "Train on 30639 samples, validate on 1273 samples\n",
      "Epoch 1/100\n",
      " - 2s - loss: 0.3461 - acc: 0.8517 - f1_m: 0.2081 - precision_m: 0.3727 - recall_m: 0.1641 - val_loss: 0.2577 - val_acc: 0.8892 - val_f1_m: 0.1402 - val_precision_m: 0.2849 - val_recall_m: 0.0972\n",
      "Epoch 2/100\n",
      " - 1s - loss: 0.3320 - acc: 0.8540 - f1_m: 0.2504 - precision_m: 0.4539 - recall_m: 0.1924 - val_loss: 0.2666 - val_acc: 0.8885 - val_f1_m: 0.2638 - val_precision_m: 0.4457 - val_recall_m: 0.2064\n",
      "Epoch 3/100\n",
      " - 1s - loss: 0.3296 - acc: 0.8561 - f1_m: 0.2691 - precision_m: 0.4731 - recall_m: 0.2107 - val_loss: 0.2623 - val_acc: 0.8892 - val_f1_m: 0.1455 - val_precision_m: 0.3394 - val_recall_m: 0.1001\n",
      "Epoch 4/100\n",
      " - 1s - loss: 0.3280 - acc: 0.8553 - f1_m: 0.2591 - precision_m: 0.4691 - recall_m: 0.1987 - val_loss: 0.2576 - val_acc: 0.8908 - val_f1_m: 0.2960 - val_precision_m: 0.4679 - val_recall_m: 0.2492\n",
      "Epoch 5/100\n",
      " - 1s - loss: 0.3266 - acc: 0.8569 - f1_m: 0.2735 - precision_m: 0.4885 - recall_m: 0.2109 - val_loss: 0.2576 - val_acc: 0.8963 - val_f1_m: 0.2254 - val_precision_m: 0.4022 - val_recall_m: 0.1638\n",
      "Epoch 6/100\n",
      " - 1s - loss: 0.3250 - acc: 0.8565 - f1_m: 0.2765 - precision_m: 0.4876 - recall_m: 0.2129 - val_loss: 0.2566 - val_acc: 0.8940 - val_f1_m: 0.2191 - val_precision_m: 0.3854 - val_recall_m: 0.1672\n",
      "Epoch 7/100\n",
      " - 1s - loss: 0.3240 - acc: 0.8566 - f1_m: 0.2753 - precision_m: 0.4907 - recall_m: 0.2129 - val_loss: 0.2565 - val_acc: 0.8924 - val_f1_m: 0.2695 - val_precision_m: 0.4315 - val_recall_m: 0.2225\n",
      "Epoch 8/100\n",
      " - 2s - loss: 0.3229 - acc: 0.8576 - f1_m: 0.2910 - precision_m: 0.5067 - recall_m: 0.2289 - val_loss: 0.2599 - val_acc: 0.8908 - val_f1_m: 0.1790 - val_precision_m: 0.3645 - val_recall_m: 0.1223\n",
      "Epoch 9/100\n",
      " - 1s - loss: 0.3222 - acc: 0.8567 - f1_m: 0.2689 - precision_m: 0.4763 - recall_m: 0.2064 - val_loss: 0.2576 - val_acc: 0.8932 - val_f1_m: 0.1803 - val_precision_m: 0.3519 - val_recall_m: 0.1265\n",
      "Epoch 10/100\n",
      " - 2s - loss: 0.3218 - acc: 0.8580 - f1_m: 0.3034 - precision_m: 0.5145 - recall_m: 0.2402 - val_loss: 0.2579 - val_acc: 0.8924 - val_f1_m: 0.2170 - val_precision_m: 0.3896 - val_recall_m: 0.1638\n",
      "Epoch 11/100\n",
      " - 1s - loss: 0.3207 - acc: 0.8575 - f1_m: 0.2867 - precision_m: 0.5056 - recall_m: 0.2244 - val_loss: 0.2542 - val_acc: 0.8955 - val_f1_m: 0.2065 - val_precision_m: 0.3813 - val_recall_m: 0.1496\n",
      "Epoch 12/100\n",
      " - 1s - loss: 0.3199 - acc: 0.8572 - f1_m: 0.2998 - precision_m: 0.5176 - recall_m: 0.2337 - val_loss: 0.2604 - val_acc: 0.8940 - val_f1_m: 0.2695 - val_precision_m: 0.4378 - val_recall_m: 0.2153\n",
      "Epoch 13/100\n",
      " - 1s - loss: 0.3194 - acc: 0.8582 - f1_m: 0.3046 - precision_m: 0.5166 - recall_m: 0.2389 - val_loss: 0.2582 - val_acc: 0.8916 - val_f1_m: 0.2123 - val_precision_m: 0.3687 - val_recall_m: 0.1621\n",
      "Epoch 14/100\n",
      " - 1s - loss: 0.3189 - acc: 0.8588 - f1_m: 0.2948 - precision_m: 0.4953 - recall_m: 0.2313 - val_loss: 0.2550 - val_acc: 0.8947 - val_f1_m: 0.2167 - val_precision_m: 0.4022 - val_recall_m: 0.1588\n",
      "Epoch 15/100\n",
      " - 1s - loss: 0.3178 - acc: 0.8587 - f1_m: 0.3036 - precision_m: 0.5199 - recall_m: 0.2395 - val_loss: 0.2535 - val_acc: 0.8932 - val_f1_m: 0.2034 - val_precision_m: 0.3813 - val_recall_m: 0.1504\n",
      "Epoch 16/100\n",
      " - 1s - loss: 0.3165 - acc: 0.8590 - f1_m: 0.3038 - precision_m: 0.5319 - recall_m: 0.2381 - val_loss: 0.2590 - val_acc: 0.8916 - val_f1_m: 0.3243 - val_precision_m: 0.4843 - val_recall_m: 0.2996\n",
      "Epoch 17/100\n",
      " - 2s - loss: 0.3164 - acc: 0.8587 - f1_m: 0.3134 - precision_m: 0.5178 - recall_m: 0.2500 - val_loss: 0.2598 - val_acc: 0.8892 - val_f1_m: 0.2463 - val_precision_m: 0.4211 - val_recall_m: 0.1910\n",
      "Epoch 18/100\n",
      " - 1s - loss: 0.3154 - acc: 0.8598 - f1_m: 0.3139 - precision_m: 0.5294 - recall_m: 0.2493 - val_loss: 0.2622 - val_acc: 0.8940 - val_f1_m: 0.2296 - val_precision_m: 0.4022 - val_recall_m: 0.1755\n",
      "Epoch 19/100\n",
      " - 1s - loss: 0.3142 - acc: 0.8602 - f1_m: 0.3178 - precision_m: 0.5247 - recall_m: 0.2552 - val_loss: 0.2601 - val_acc: 0.8908 - val_f1_m: 0.2135 - val_precision_m: 0.3666 - val_recall_m: 0.1714\n",
      "Epoch 20/100\n",
      " - 1s - loss: 0.3135 - acc: 0.8606 - f1_m: 0.3273 - precision_m: 0.5354 - recall_m: 0.2627 - val_loss: 0.2549 - val_acc: 0.8924 - val_f1_m: 0.1974 - val_precision_m: 0.3771 - val_recall_m: 0.1441\n",
      "Epoch 21/100\n",
      " - 1s - loss: 0.3122 - acc: 0.8609 - f1_m: 0.3281 - precision_m: 0.5437 - recall_m: 0.2588 - val_loss: 0.2615 - val_acc: 0.8940 - val_f1_m: 0.2164 - val_precision_m: 0.3687 - val_recall_m: 0.1672\n",
      "Epoch 22/100\n",
      " - 1s - loss: 0.3117 - acc: 0.8611 - f1_m: 0.3342 - precision_m: 0.5354 - recall_m: 0.2719 - val_loss: 0.2605 - val_acc: 0.8932 - val_f1_m: 0.2592 - val_precision_m: 0.4026 - val_recall_m: 0.2141\n",
      "Epoch 23/100\n",
      " - 1s - loss: 0.3108 - acc: 0.8610 - f1_m: 0.3243 - precision_m: 0.5277 - recall_m: 0.2586 - val_loss: 0.2589 - val_acc: 0.8916 - val_f1_m: 0.2613 - val_precision_m: 0.4152 - val_recall_m: 0.2112\n",
      "Epoch 24/100\n",
      " - 1s - loss: 0.3094 - acc: 0.8615 - f1_m: 0.3434 - precision_m: 0.5458 - recall_m: 0.2772 - val_loss: 0.2648 - val_acc: 0.8924 - val_f1_m: 0.2478 - val_precision_m: 0.4127 - val_recall_m: 0.1944\n",
      "Epoch 25/100\n",
      " - 1s - loss: 0.3089 - acc: 0.8627 - f1_m: 0.3401 - precision_m: 0.5511 - recall_m: 0.2721 - val_loss: 0.2572 - val_acc: 0.8932 - val_f1_m: 0.2527 - val_precision_m: 0.3963 - val_recall_m: 0.1990\n",
      "Epoch 26/100\n",
      " - 1s - loss: 0.3077 - acc: 0.8632 - f1_m: 0.3470 - precision_m: 0.5682 - recall_m: 0.2793 - val_loss: 0.2671 - val_acc: 0.8924 - val_f1_m: 0.2740 - val_precision_m: 0.4294 - val_recall_m: 0.2275\n",
      "Epoch 27/100\n",
      " - 1s - loss: 0.3074 - acc: 0.8634 - f1_m: 0.3443 - precision_m: 0.5492 - recall_m: 0.2795 - val_loss: 0.2592 - val_acc: 0.8924 - val_f1_m: 0.2490 - val_precision_m: 0.4265 - val_recall_m: 0.1889\n",
      "Epoch 28/100\n",
      " - 2s - loss: 0.3056 - acc: 0.8634 - f1_m: 0.3445 - precision_m: 0.5555 - recall_m: 0.2776 - val_loss: 0.2654 - val_acc: 0.8892 - val_f1_m: 0.2739 - val_precision_m: 0.4257 - val_recall_m: 0.2317\n",
      "Epoch 29/100\n",
      " - 1s - loss: 0.3052 - acc: 0.8632 - f1_m: 0.3495 - precision_m: 0.5585 - recall_m: 0.2847 - val_loss: 0.2598 - val_acc: 0.8932 - val_f1_m: 0.2187 - val_precision_m: 0.3750 - val_recall_m: 0.1693\n",
      "Epoch 30/100\n",
      " - 1s - loss: 0.3043 - acc: 0.8648 - f1_m: 0.3592 - precision_m: 0.5739 - recall_m: 0.2898 - val_loss: 0.2662 - val_acc: 0.8916 - val_f1_m: 0.2501 - val_precision_m: 0.4005 - val_recall_m: 0.2024\n",
      "Epoch 31/100\n",
      " - 1s - loss: 0.3028 - acc: 0.8654 - f1_m: 0.3712 - precision_m: 0.5842 - recall_m: 0.3015 - val_loss: 0.2607 - val_acc: 0.8932 - val_f1_m: 0.3249 - val_precision_m: 0.4973 - val_recall_m: 0.2849\n",
      "Epoch 32/100\n",
      " - 1s - loss: 0.3023 - acc: 0.8645 - f1_m: 0.3682 - precision_m: 0.5644 - recall_m: 0.3010 - val_loss: 0.2662 - val_acc: 0.8924 - val_f1_m: 0.2410 - val_precision_m: 0.3938 - val_recall_m: 0.1877\n",
      "Epoch 33/100\n",
      " - 1s - loss: 0.3019 - acc: 0.8653 - f1_m: 0.3651 - precision_m: 0.5766 - recall_m: 0.2973 - val_loss: 0.2620 - val_acc: 0.8932 - val_f1_m: 0.2484 - val_precision_m: 0.3900 - val_recall_m: 0.2057\n",
      "Epoch 34/100\n",
      " - 1s - loss: 0.2995 - acc: 0.8653 - f1_m: 0.3693 - precision_m: 0.5835 - recall_m: 0.3036 - val_loss: 0.2823 - val_acc: 0.8885 - val_f1_m: 0.2206 - val_precision_m: 0.3540 - val_recall_m: 0.1764\n",
      "Epoch 35/100\n",
      " - 1s - loss: 0.2989 - acc: 0.8665 - f1_m: 0.3745 - precision_m: 0.5866 - recall_m: 0.3080 - val_loss: 0.2684 - val_acc: 0.8892 - val_f1_m: 0.2288 - val_precision_m: 0.3846 - val_recall_m: 0.1961\n",
      "Epoch 36/100\n",
      " - 2s - loss: 0.2980 - acc: 0.8672 - f1_m: 0.3865 - precision_m: 0.5994 - recall_m: 0.3174 - val_loss: 0.2729 - val_acc: 0.8900 - val_f1_m: 0.1913 - val_precision_m: 0.3624 - val_recall_m: 0.1471\n",
      "Epoch 37/100\n",
      " - 2s - loss: 0.2980 - acc: 0.8677 - f1_m: 0.3705 - precision_m: 0.5758 - recall_m: 0.3032 - val_loss: 0.2672 - val_acc: 0.8877 - val_f1_m: 0.1853 - val_precision_m: 0.3373 - val_recall_m: 0.1429\n",
      "Epoch 38/100\n",
      " - 1s - loss: 0.2964 - acc: 0.8677 - f1_m: 0.3754 - precision_m: 0.5789 - recall_m: 0.3101 - val_loss: 0.2759 - val_acc: 0.8955 - val_f1_m: 0.2855 - val_precision_m: 0.4629 - val_recall_m: 0.2346\n",
      "Epoch 39/100\n",
      " - 1s - loss: 0.2958 - acc: 0.8687 - f1_m: 0.3855 - precision_m: 0.5909 - recall_m: 0.3150 - val_loss: 0.2775 - val_acc: 0.8924 - val_f1_m: 0.2866 - val_precision_m: 0.4252 - val_recall_m: 0.2443\n",
      "Epoch 40/100\n"
     ]
    },
    {
     "name": "stdout",
     "output_type": "stream",
     "text": [
      " - 1s - loss: 0.2954 - acc: 0.8688 - f1_m: 0.3955 - precision_m: 0.6044 - recall_m: 0.3264 - val_loss: 0.2803 - val_acc: 0.8853 - val_f1_m: 0.2592 - val_precision_m: 0.3972 - val_recall_m: 0.2200\n",
      "Epoch 41/100\n",
      " - 1s - loss: 0.2939 - acc: 0.8694 - f1_m: 0.3910 - precision_m: 0.6032 - recall_m: 0.3181 - val_loss: 0.2779 - val_acc: 0.8916 - val_f1_m: 0.2698 - val_precision_m: 0.4047 - val_recall_m: 0.2338\n",
      "Epoch 42/100\n",
      " - 1s - loss: 0.2931 - acc: 0.8695 - f1_m: 0.3889 - precision_m: 0.5911 - recall_m: 0.3202 - val_loss: 0.2748 - val_acc: 0.8892 - val_f1_m: 0.1937 - val_precision_m: 0.3163 - val_recall_m: 0.1554\n",
      "Epoch 43/100\n",
      " - 1s - loss: 0.2931 - acc: 0.8698 - f1_m: 0.3849 - precision_m: 0.5854 - recall_m: 0.3159 - val_loss: 0.2824 - val_acc: 0.8853 - val_f1_m: 0.1780 - val_precision_m: 0.3163 - val_recall_m: 0.1387\n",
      "Epoch 44/100\n",
      " - 1s - loss: 0.2921 - acc: 0.8697 - f1_m: 0.3794 - precision_m: 0.5833 - recall_m: 0.3120 - val_loss: 0.2723 - val_acc: 0.8908 - val_f1_m: 0.2175 - val_precision_m: 0.3301 - val_recall_m: 0.1760\n",
      "Epoch 45/100\n",
      " - 1s - loss: 0.2905 - acc: 0.8704 - f1_m: 0.3972 - precision_m: 0.6056 - recall_m: 0.3246 - val_loss: 0.2835 - val_acc: 0.8869 - val_f1_m: 0.2216 - val_precision_m: 0.3352 - val_recall_m: 0.1793\n",
      "Epoch 46/100\n",
      " - 1s - loss: 0.2915 - acc: 0.8696 - f1_m: 0.3924 - precision_m: 0.5913 - recall_m: 0.3263 - val_loss: 0.2802 - val_acc: 0.8892 - val_f1_m: 0.3091 - val_precision_m: 0.4474 - val_recall_m: 0.2694\n",
      "Epoch 47/100\n",
      " - 1s - loss: 0.2888 - acc: 0.8710 - f1_m: 0.3932 - precision_m: 0.6094 - recall_m: 0.3210 - val_loss: 0.2805 - val_acc: 0.8892 - val_f1_m: 0.2001 - val_precision_m: 0.3218 - val_recall_m: 0.1617\n",
      "Epoch 48/100\n",
      " - 1s - loss: 0.2884 - acc: 0.8718 - f1_m: 0.4000 - precision_m: 0.6040 - recall_m: 0.3284 - val_loss: 0.2793 - val_acc: 0.8900 - val_f1_m: 0.2761 - val_precision_m: 0.4231 - val_recall_m: 0.2220\n",
      "Epoch 49/100\n",
      " - 1s - loss: 0.2883 - acc: 0.8711 - f1_m: 0.4055 - precision_m: 0.6071 - recall_m: 0.3362 - val_loss: 0.2787 - val_acc: 0.8932 - val_f1_m: 0.2471 - val_precision_m: 0.4231 - val_recall_m: 0.1994\n",
      "Epoch 50/100\n",
      " - 1s - loss: 0.2865 - acc: 0.8726 - f1_m: 0.4174 - precision_m: 0.6251 - recall_m: 0.3468 - val_loss: 0.2887 - val_acc: 0.8900 - val_f1_m: 0.1482 - val_precision_m: 0.2807 - val_recall_m: 0.1093\n",
      "Epoch 51/100\n",
      " - 1s - loss: 0.2863 - acc: 0.8721 - f1_m: 0.4054 - precision_m: 0.6179 - recall_m: 0.3297 - val_loss: 0.2866 - val_acc: 0.8845 - val_f1_m: 0.2586 - val_precision_m: 0.3574 - val_recall_m: 0.2321\n",
      "Epoch 52/100\n",
      " - 1s - loss: 0.2854 - acc: 0.8729 - f1_m: 0.4002 - precision_m: 0.6167 - recall_m: 0.3275 - val_loss: 0.2908 - val_acc: 0.8861 - val_f1_m: 0.2224 - val_precision_m: 0.3477 - val_recall_m: 0.1827\n",
      "Epoch 53/100\n",
      " - 1s - loss: 0.2851 - acc: 0.8724 - f1_m: 0.4078 - precision_m: 0.6296 - recall_m: 0.3340 - val_loss: 0.2829 - val_acc: 0.8885 - val_f1_m: 0.2405 - val_precision_m: 0.3716 - val_recall_m: 0.1982\n",
      "Epoch 54/100\n",
      " - 1s - loss: 0.2846 - acc: 0.8720 - f1_m: 0.3991 - precision_m: 0.6145 - recall_m: 0.3264 - val_loss: 0.2959 - val_acc: 0.8900 - val_f1_m: 0.2740 - val_precision_m: 0.3951 - val_recall_m: 0.2451\n",
      "Epoch 55/100\n",
      " - 1s - loss: 0.2834 - acc: 0.8740 - f1_m: 0.4179 - precision_m: 0.6277 - recall_m: 0.3449 - val_loss: 0.2989 - val_acc: 0.8845 - val_f1_m: 0.2539 - val_precision_m: 0.4135 - val_recall_m: 0.2170\n",
      "Epoch 56/100\n",
      " - 1s - loss: 0.2837 - acc: 0.8721 - f1_m: 0.4073 - precision_m: 0.6114 - recall_m: 0.3375 - val_loss: 0.2898 - val_acc: 0.8853 - val_f1_m: 0.2163 - val_precision_m: 0.3280 - val_recall_m: 0.1743\n",
      "Epoch 57/100\n",
      " - 1s - loss: 0.2842 - acc: 0.8733 - f1_m: 0.4087 - precision_m: 0.6212 - recall_m: 0.3374 - val_loss: 0.2875 - val_acc: 0.8837 - val_f1_m: 0.1934 - val_precision_m: 0.3435 - val_recall_m: 0.1479\n",
      "Epoch 58/100\n",
      " - 2s - loss: 0.2815 - acc: 0.8732 - f1_m: 0.4083 - precision_m: 0.6175 - recall_m: 0.3390 - val_loss: 0.3061 - val_acc: 0.8837 - val_f1_m: 0.2210 - val_precision_m: 0.3498 - val_recall_m: 0.1751\n",
      "Epoch 59/100\n",
      " - 1s - loss: 0.2813 - acc: 0.8740 - f1_m: 0.4140 - precision_m: 0.6266 - recall_m: 0.3399 - val_loss: 0.2944 - val_acc: 0.8885 - val_f1_m: 0.2724 - val_precision_m: 0.4030 - val_recall_m: 0.2262\n",
      "Epoch 60/100\n",
      " - 1s - loss: 0.2798 - acc: 0.8744 - f1_m: 0.4270 - precision_m: 0.6454 - recall_m: 0.3527 - val_loss: 0.2953 - val_acc: 0.8940 - val_f1_m: 0.2452 - val_precision_m: 0.4022 - val_recall_m: 0.1982\n",
      "Epoch 61/100\n",
      " - 1s - loss: 0.2792 - acc: 0.8756 - f1_m: 0.4233 - precision_m: 0.6491 - recall_m: 0.3470 - val_loss: 0.3100 - val_acc: 0.8861 - val_f1_m: 0.2888 - val_precision_m: 0.4378 - val_recall_m: 0.2493\n",
      "Epoch 62/100\n",
      " - 1s - loss: 0.2795 - acc: 0.8755 - f1_m: 0.4209 - precision_m: 0.6059 - recall_m: 0.3539 - val_loss: 0.3064 - val_acc: 0.8877 - val_f1_m: 0.2145 - val_precision_m: 0.3825 - val_recall_m: 0.1680\n",
      "Epoch 63/100\n",
      " - 2s - loss: 0.2800 - acc: 0.8745 - f1_m: 0.4174 - precision_m: 0.6201 - recall_m: 0.3473 - val_loss: 0.3063 - val_acc: 0.8885 - val_f1_m: 0.2609 - val_precision_m: 0.3980 - val_recall_m: 0.2107\n",
      "Epoch 64/100\n",
      " - 1s - loss: 0.2793 - acc: 0.8754 - f1_m: 0.4282 - precision_m: 0.6396 - recall_m: 0.3599 - val_loss: 0.2958 - val_acc: 0.8908 - val_f1_m: 0.2224 - val_precision_m: 0.3519 - val_recall_m: 0.1898\n",
      "Epoch 65/100\n",
      " - 2s - loss: 0.2770 - acc: 0.8756 - f1_m: 0.4304 - precision_m: 0.6410 - recall_m: 0.3542 - val_loss: 0.3036 - val_acc: 0.8869 - val_f1_m: 0.3102 - val_precision_m: 0.4441 - val_recall_m: 0.2660\n",
      "Epoch 66/100\n",
      " - 1s - loss: 0.2774 - acc: 0.8752 - f1_m: 0.4301 - precision_m: 0.6427 - recall_m: 0.3567 - val_loss: 0.3276 - val_acc: 0.8845 - val_f1_m: 0.2405 - val_precision_m: 0.3875 - val_recall_m: 0.1961\n",
      "Epoch 67/100\n",
      " - 2s - loss: 0.2758 - acc: 0.8770 - f1_m: 0.4300 - precision_m: 0.6328 - recall_m: 0.3616 - val_loss: 0.3202 - val_acc: 0.8892 - val_f1_m: 0.2373 - val_precision_m: 0.3875 - val_recall_m: 0.1919\n",
      "Epoch 68/100\n",
      " - 1s - loss: 0.2764 - acc: 0.8761 - f1_m: 0.4279 - precision_m: 0.6273 - recall_m: 0.3601 - val_loss: 0.3221 - val_acc: 0.8869 - val_f1_m: 0.2294 - val_precision_m: 0.3720 - val_recall_m: 0.1843\n",
      "Epoch 69/100\n",
      " - 2s - loss: 0.2746 - acc: 0.8768 - f1_m: 0.4275 - precision_m: 0.6401 - recall_m: 0.3534 - val_loss: 0.3137 - val_acc: 0.8861 - val_f1_m: 0.2928 - val_precision_m: 0.4076 - val_recall_m: 0.2673\n",
      "Epoch 70/100\n",
      " - 2s - loss: 0.2744 - acc: 0.8777 - f1_m: 0.4303 - precision_m: 0.6365 - recall_m: 0.3581 - val_loss: 0.3248 - val_acc: 0.8869 - val_f1_m: 0.2950 - val_precision_m: 0.4282 - val_recall_m: 0.2472\n",
      "Epoch 71/100\n",
      " - 1s - loss: 0.2727 - acc: 0.8785 - f1_m: 0.4351 - precision_m: 0.6403 - recall_m: 0.3656 - val_loss: 0.3365 - val_acc: 0.8837 - val_f1_m: 0.2111 - val_precision_m: 0.3268 - val_recall_m: 0.1730\n",
      "Epoch 72/100\n",
      " - 1s - loss: 0.2737 - acc: 0.8771 - f1_m: 0.4327 - precision_m: 0.6338 - recall_m: 0.3597 - val_loss: 0.3122 - val_acc: 0.8908 - val_f1_m: 0.2426 - val_precision_m: 0.3800 - val_recall_m: 0.2053\n",
      "Epoch 73/100\n",
      " - 1s - loss: 0.2725 - acc: 0.8775 - f1_m: 0.4361 - precision_m: 0.6365 - recall_m: 0.3609 - val_loss: 0.3340 - val_acc: 0.8869 - val_f1_m: 0.2530 - val_precision_m: 0.3712 - val_recall_m: 0.2107\n",
      "Epoch 74/100\n",
      " - 1s - loss: 0.2732 - acc: 0.8781 - f1_m: 0.4451 - precision_m: 0.6468 - recall_m: 0.3712 - val_loss: 0.3156 - val_acc: 0.8885 - val_f1_m: 0.2689 - val_precision_m: 0.4118 - val_recall_m: 0.2212\n",
      "Epoch 75/100\n",
      " - 2s - loss: 0.2728 - acc: 0.8780 - f1_m: 0.4348 - precision_m: 0.6532 - recall_m: 0.3601 - val_loss: 0.3162 - val_acc: 0.8822 - val_f1_m: 0.3362 - val_precision_m: 0.4621 - val_recall_m: 0.3016\n",
      "Epoch 76/100\n",
      " - 1s - loss: 0.2702 - acc: 0.8800 - f1_m: 0.4496 - precision_m: 0.6516 - recall_m: 0.3769 - val_loss: 0.3377 - val_acc: 0.8869 - val_f1_m: 0.2729 - val_precision_m: 0.4370 - val_recall_m: 0.2170\n",
      "Epoch 77/100\n",
      " - 1s - loss: 0.2702 - acc: 0.8793 - f1_m: 0.4473 - precision_m: 0.6418 - recall_m: 0.3793 - val_loss: 0.3330 - val_acc: 0.8885 - val_f1_m: 0.2798 - val_precision_m: 0.4307 - val_recall_m: 0.2288\n",
      "Epoch 78/100\n",
      " - 2s - loss: 0.2701 - acc: 0.8794 - f1_m: 0.4453 - precision_m: 0.6435 - recall_m: 0.3736 - val_loss: 0.3305 - val_acc: 0.8892 - val_f1_m: 0.3037 - val_precision_m: 0.4508 - val_recall_m: 0.2602\n",
      "Epoch 79/100\n",
      " - 1s - loss: 0.2701 - acc: 0.8794 - f1_m: 0.4500 - precision_m: 0.6597 - recall_m: 0.3767 - val_loss: 0.3454 - val_acc: 0.8853 - val_f1_m: 0.2730 - val_precision_m: 0.4307 - val_recall_m: 0.2233\n"
     ]
    },
    {
     "name": "stdout",
     "output_type": "stream",
     "text": [
      "Epoch 80/100\n",
      " - 2s - loss: 0.2706 - acc: 0.8796 - f1_m: 0.4518 - precision_m: 0.6579 - recall_m: 0.3788 - val_loss: 0.3325 - val_acc: 0.8822 - val_f1_m: 0.2941 - val_precision_m: 0.4039 - val_recall_m: 0.2610\n",
      "Epoch 81/100\n",
      " - 1s - loss: 0.2694 - acc: 0.8795 - f1_m: 0.4422 - precision_m: 0.6572 - recall_m: 0.3667 - val_loss: 0.3167 - val_acc: 0.8822 - val_f1_m: 0.2584 - val_precision_m: 0.4114 - val_recall_m: 0.2128\n",
      "Epoch 82/100\n",
      " - 2s - loss: 0.2669 - acc: 0.8803 - f1_m: 0.4522 - precision_m: 0.6445 - recall_m: 0.3829 - val_loss: 0.3381 - val_acc: 0.8885 - val_f1_m: 0.2486 - val_precision_m: 0.3813 - val_recall_m: 0.2024\n",
      "Epoch 83/100\n",
      " - 1s - loss: 0.2666 - acc: 0.8800 - f1_m: 0.4507 - precision_m: 0.6638 - recall_m: 0.3748 - val_loss: 0.3286 - val_acc: 0.8885 - val_f1_m: 0.2662 - val_precision_m: 0.3611 - val_recall_m: 0.2317\n",
      "Epoch 84/100\n",
      " - 1s - loss: 0.2667 - acc: 0.8815 - f1_m: 0.4575 - precision_m: 0.6591 - recall_m: 0.3856 - val_loss: 0.3421 - val_acc: 0.8853 - val_f1_m: 0.2347 - val_precision_m: 0.3741 - val_recall_m: 0.1856\n",
      "Epoch 85/100\n",
      " - 1s - loss: 0.2650 - acc: 0.8822 - f1_m: 0.4621 - precision_m: 0.6762 - recall_m: 0.3868 - val_loss: 0.3591 - val_acc: 0.8877 - val_f1_m: 0.3096 - val_precision_m: 0.4345 - val_recall_m: 0.2719\n",
      "Epoch 86/100\n",
      " - 1s - loss: 0.2682 - acc: 0.8806 - f1_m: 0.4549 - precision_m: 0.6575 - recall_m: 0.3784 - val_loss: 0.3294 - val_acc: 0.8947 - val_f1_m: 0.3026 - val_precision_m: 0.4797 - val_recall_m: 0.2451\n",
      "Epoch 87/100\n",
      " - 1s - loss: 0.2649 - acc: 0.8814 - f1_m: 0.4605 - precision_m: 0.6810 - recall_m: 0.3842 - val_loss: 0.3362 - val_acc: 0.8908 - val_f1_m: 0.3245 - val_precision_m: 0.4487 - val_recall_m: 0.2933\n",
      "Epoch 88/100\n",
      " - 2s - loss: 0.2638 - acc: 0.8827 - f1_m: 0.4680 - precision_m: 0.6720 - recall_m: 0.3931 - val_loss: 0.3391 - val_acc: 0.8861 - val_f1_m: 0.2375 - val_precision_m: 0.3729 - val_recall_m: 0.1940\n",
      "Epoch 89/100\n",
      " - 2s - loss: 0.2652 - acc: 0.8816 - f1_m: 0.4625 - precision_m: 0.6608 - recall_m: 0.3910 - val_loss: 0.3667 - val_acc: 0.8908 - val_f1_m: 0.2492 - val_precision_m: 0.4202 - val_recall_m: 0.2003\n",
      "Epoch 90/100\n",
      " - 2s - loss: 0.2647 - acc: 0.8826 - f1_m: 0.4654 - precision_m: 0.6786 - recall_m: 0.3881 - val_loss: 0.3462 - val_acc: 0.8900 - val_f1_m: 0.2833 - val_precision_m: 0.4231 - val_recall_m: 0.2359\n",
      "Epoch 91/100\n",
      " - 1s - loss: 0.2656 - acc: 0.8819 - f1_m: 0.4592 - precision_m: 0.6720 - recall_m: 0.3820 - val_loss: 0.3526 - val_acc: 0.8869 - val_f1_m: 0.3011 - val_precision_m: 0.4357 - val_recall_m: 0.2493\n",
      "Epoch 92/100\n",
      " - 2s - loss: 0.2628 - acc: 0.8816 - f1_m: 0.4687 - precision_m: 0.6696 - recall_m: 0.3951 - val_loss: 0.3527 - val_acc: 0.8900 - val_f1_m: 0.2744 - val_precision_m: 0.4190 - val_recall_m: 0.2233\n",
      "Epoch 93/100\n",
      " - 2s - loss: 0.2637 - acc: 0.8826 - f1_m: 0.4641 - precision_m: 0.6708 - recall_m: 0.3920 - val_loss: 0.3452 - val_acc: 0.8908 - val_f1_m: 0.2617 - val_precision_m: 0.4357 - val_recall_m: 0.2024\n",
      "Epoch 94/100\n",
      " - 1s - loss: 0.2605 - acc: 0.8846 - f1_m: 0.4786 - precision_m: 0.6725 - recall_m: 0.4048 - val_loss: 0.3471 - val_acc: 0.8877 - val_f1_m: 0.2715 - val_precision_m: 0.4156 - val_recall_m: 0.2220\n",
      "Epoch 95/100\n",
      " - 1s - loss: 0.2645 - acc: 0.8827 - f1_m: 0.4711 - precision_m: 0.6805 - recall_m: 0.3946 - val_loss: 0.3423 - val_acc: 0.8940 - val_f1_m: 0.2902 - val_precision_m: 0.4650 - val_recall_m: 0.2329\n",
      "Epoch 96/100\n",
      " - 1s - loss: 0.2615 - acc: 0.8850 - f1_m: 0.4739 - precision_m: 0.6906 - recall_m: 0.3935 - val_loss: 0.3440 - val_acc: 0.8877 - val_f1_m: 0.2486 - val_precision_m: 0.3792 - val_recall_m: 0.2024\n",
      "Epoch 97/100\n",
      " - 1s - loss: 0.2606 - acc: 0.8850 - f1_m: 0.4879 - precision_m: 0.6921 - recall_m: 0.4134 - val_loss: 0.3630 - val_acc: 0.8932 - val_f1_m: 0.2811 - val_precision_m: 0.4114 - val_recall_m: 0.2359\n",
      "Epoch 98/100\n",
      " - 1s - loss: 0.2618 - acc: 0.8841 - f1_m: 0.4762 - precision_m: 0.6697 - recall_m: 0.4066 - val_loss: 0.3503 - val_acc: 0.8924 - val_f1_m: 0.2944 - val_precision_m: 0.4370 - val_recall_m: 0.2430\n",
      "Epoch 99/100\n",
      " - 1s - loss: 0.2597 - acc: 0.8834 - f1_m: 0.4693 - precision_m: 0.6829 - recall_m: 0.3930 - val_loss: 0.3397 - val_acc: 0.8924 - val_f1_m: 0.3197 - val_precision_m: 0.4847 - val_recall_m: 0.2635\n",
      "Epoch 100/100\n",
      " - 2s - loss: 0.2619 - acc: 0.8835 - f1_m: 0.4720 - precision_m: 0.6741 - recall_m: 0.3967 - val_loss: 0.3565 - val_acc: 0.8947 - val_f1_m: 0.3086 - val_precision_m: 0.4516 - val_recall_m: 0.2451\n"
     ]
    },
    {
     "data": {
      "text/plain": [
       "<tensorflow.python.keras.callbacks.History at 0x138957400>"
      ]
     },
     "execution_count": 195,
     "metadata": {},
     "output_type": "execute_result"
    }
   ],
   "source": [
    "inputs = keras.Input(shape=(n_features,), name='input_features')\n",
    "x = layers.Dense(hyp_params['fc_hidden_size'], activation='relu')(inputs)\n",
    "\n",
    "for _ in range(hyp_params['n_fc_layers']-1):\n",
    "    x = layers.Dense(hyp_params['fc_hidden_size'], activation='relu')(x)\n",
    "    # x = layers.Dropout(hyp_params['dropout_rate'])(x)\n",
    "\n",
    "outputs = layers.Dense(1, activation='sigmoid')(x)\n",
    "\n",
    "model = keras.Model(inputs=inputs, outputs=outputs)\n",
    "\n",
    "opt = optimizers.Adam(lr=hyp_params['lr'])\n",
    "\n",
    "model.compile(loss='binary_crossentropy',\n",
    "optimizer=opt,\n",
    "metrics=['acc',f1_m,precision_m, recall_m])\n",
    "\n",
    "# history = model.fit(X_train_con, y_train, validation_data=(X_dev_con, y_dev), epochs=200, verbose=1)\n",
    "model.fit(Xtrain, ytrain, validation_data=(Xdev, ydev), \n",
    "          epochs=100, \n",
    "          verbose=2\n",
    "         )"
   ]
  },
  {
   "cell_type": "code",
   "execution_count": 196,
   "metadata": {},
   "outputs": [
    {
     "name": "stdout",
     "output_type": "stream",
     "text": [
      "30639/30639 [==============================] - 1s 20us/step\n",
      "1273/1273 [==============================] - 0s 18us/step\n",
      "train_acc: 0.888, train_f1_score: 0.494\n",
      "dev_acc: 0.895, dev_f1_score: 0.309\n"
     ]
    }
   ],
   "source": [
    "# evaluate the model\n",
    "_, train_acc, train_f1_score, train_precision, train_recall = model.evaluate(Xtrain, ytrain, verbose=1)\n",
    "_, dev_acc, dev_f1_score, dev_precision, dev_recall = model.evaluate(Xdev, ydev, verbose=1)\n",
    "print('train_acc: %.3f, train_f1_score: %.3f' % (train_acc, train_f1_score))\n",
    "print('dev_acc: %.3f, dev_f1_score: %.3f' % (dev_acc, dev_f1_score))"
   ]
  },
  {
   "cell_type": "code",
   "execution_count": null,
   "metadata": {},
   "outputs": [],
   "source": []
  },
  {
   "cell_type": "code",
   "execution_count": null,
   "metadata": {},
   "outputs": [],
   "source": []
  },
  {
   "cell_type": "code",
   "execution_count": null,
   "metadata": {},
   "outputs": [],
   "source": []
  }
 ],
 "metadata": {
  "kernelspec": {
   "display_name": "Python 3",
   "language": "python",
   "name": "python3"
  },
  "language_info": {
   "codemirror_mode": {
    "name": "ipython",
    "version": 3
   },
   "file_extension": ".py",
   "mimetype": "text/x-python",
   "name": "python",
   "nbconvert_exporter": "python",
   "pygments_lexer": "ipython3",
   "version": "3.6.3"
  }
 },
 "nbformat": 4,
 "nbformat_minor": 2
}
